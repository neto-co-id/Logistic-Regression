{
 "cells": [
  {
   "cell_type": "markdown",
   "metadata": {},
   "source": [
    "# Import Data"
   ]
  },
  {
   "cell_type": "markdown",
   "metadata": {},
   "source": [
    "- Read 2 csv data\n",
    "- Concatenate 2 csv data\n",
    "- Check header and shape of data"
   ]
  },
  {
   "cell_type": "code",
   "execution_count": 1,
   "metadata": {},
   "outputs": [],
   "source": [
    "import pandas as pd\n",
    "import numpy as np\n",
    "pd.set_option('display.max_rows', 500)\n",
    "pd.set_option('display.max_columns', 500)\n",
    "pd.set_option('display.width', 1000)"
   ]
  },
  {
   "cell_type": "code",
   "execution_count": 2,
   "metadata": {},
   "outputs": [
    {
     "data": {
      "text/html": [
       "<div>\n",
       "<style scoped>\n",
       "    .dataframe tbody tr th:only-of-type {\n",
       "        vertical-align: middle;\n",
       "    }\n",
       "\n",
       "    .dataframe tbody tr th {\n",
       "        vertical-align: top;\n",
       "    }\n",
       "\n",
       "    .dataframe thead th {\n",
       "        text-align: right;\n",
       "    }\n",
       "</style>\n",
       "<table border=\"1\" class=\"dataframe\">\n",
       "  <thead>\n",
       "    <tr style=\"text-align: right;\">\n",
       "      <th></th>\n",
       "      <th>id</th>\n",
       "      <th>x1</th>\n",
       "      <th>x2</th>\n",
       "      <th>x3</th>\n",
       "      <th>x4</th>\n",
       "      <th>x5</th>\n",
       "      <th>x6</th>\n",
       "      <th>label</th>\n",
       "    </tr>\n",
       "  </thead>\n",
       "  <tbody>\n",
       "    <tr>\n",
       "      <th>0</th>\n",
       "      <td>ERF-4688</td>\n",
       "      <td>0</td>\n",
       "      <td>15</td>\n",
       "      <td>0.0</td>\n",
       "      <td>0</td>\n",
       "      <td>0</td>\n",
       "      <td>0</td>\n",
       "      <td>low</td>\n",
       "    </tr>\n",
       "    <tr>\n",
       "      <th>1</th>\n",
       "      <td>EUO-4602</td>\n",
       "      <td>0</td>\n",
       "      <td>21</td>\n",
       "      <td>0.0</td>\n",
       "      <td>0</td>\n",
       "      <td>0</td>\n",
       "      <td>0</td>\n",
       "      <td>low</td>\n",
       "    </tr>\n",
       "    <tr>\n",
       "      <th>2</th>\n",
       "      <td>EUR-4639</td>\n",
       "      <td>0</td>\n",
       "      <td>15</td>\n",
       "      <td>0.0</td>\n",
       "      <td>0</td>\n",
       "      <td>0</td>\n",
       "      <td>0</td>\n",
       "      <td>low</td>\n",
       "    </tr>\n",
       "    <tr>\n",
       "      <th>3</th>\n",
       "      <td>EVL-4548</td>\n",
       "      <td>0</td>\n",
       "      <td>16</td>\n",
       "      <td>0.0</td>\n",
       "      <td>0</td>\n",
       "      <td>0</td>\n",
       "      <td>0</td>\n",
       "      <td>low</td>\n",
       "    </tr>\n",
       "    <tr>\n",
       "      <th>4</th>\n",
       "      <td>EVY-4534</td>\n",
       "      <td>0</td>\n",
       "      <td>15</td>\n",
       "      <td>0.0</td>\n",
       "      <td>0</td>\n",
       "      <td>0</td>\n",
       "      <td>0</td>\n",
       "      <td>low</td>\n",
       "    </tr>\n",
       "  </tbody>\n",
       "</table>\n",
       "</div>"
      ],
      "text/plain": [
       "         id  x1  x2   x3  x4  x5  x6 label\n",
       "0  ERF-4688   0  15  0.0   0   0   0   low\n",
       "1  EUO-4602   0  21  0.0   0   0   0   low\n",
       "2  EUR-4639   0  15  0.0   0   0   0   low\n",
       "3  EVL-4548   0  16  0.0   0   0   0   low\n",
       "4  EVY-4534   0  15  0.0   0   0   0   low"
      ]
     },
     "execution_count": 2,
     "metadata": {},
     "output_type": "execute_result"
    }
   ],
   "source": [
    "df1 = pd.read_csv('uji_coba.csv')\n",
    "df1.head()"
   ]
  },
  {
   "cell_type": "code",
   "execution_count": 3,
   "metadata": {},
   "outputs": [
    {
     "data": {
      "text/plain": [
       "(24998, 8)"
      ]
     },
     "execution_count": 3,
     "metadata": {},
     "output_type": "execute_result"
    }
   ],
   "source": [
    "df1.shape"
   ]
  },
  {
   "cell_type": "code",
   "execution_count": 4,
   "metadata": {},
   "outputs": [
    {
     "data": {
      "text/html": [
       "<div>\n",
       "<style scoped>\n",
       "    .dataframe tbody tr th:only-of-type {\n",
       "        vertical-align: middle;\n",
       "    }\n",
       "\n",
       "    .dataframe tbody tr th {\n",
       "        vertical-align: top;\n",
       "    }\n",
       "\n",
       "    .dataframe thead th {\n",
       "        text-align: right;\n",
       "    }\n",
       "</style>\n",
       "<table border=\"1\" class=\"dataframe\">\n",
       "  <thead>\n",
       "    <tr style=\"text-align: right;\">\n",
       "      <th></th>\n",
       "      <th>id</th>\n",
       "      <th>x1</th>\n",
       "      <th>x2</th>\n",
       "      <th>x3</th>\n",
       "      <th>x4</th>\n",
       "      <th>x5</th>\n",
       "      <th>x6</th>\n",
       "      <th>label</th>\n",
       "    </tr>\n",
       "  </thead>\n",
       "  <tbody>\n",
       "    <tr>\n",
       "      <th>0</th>\n",
       "      <td>FIO-4449</td>\n",
       "      <td>129</td>\n",
       "      <td>120</td>\n",
       "      <td>0.9887</td>\n",
       "      <td>1050</td>\n",
       "      <td>1320</td>\n",
       "      <td>572</td>\n",
       "      <td>high</td>\n",
       "    </tr>\n",
       "    <tr>\n",
       "      <th>1</th>\n",
       "      <td>FIM-4450</td>\n",
       "      <td>140</td>\n",
       "      <td>271</td>\n",
       "      <td>0.9983</td>\n",
       "      <td>732</td>\n",
       "      <td>903</td>\n",
       "      <td>376</td>\n",
       "      <td>high</td>\n",
       "    </tr>\n",
       "    <tr>\n",
       "      <th>2</th>\n",
       "      <td>FIG-4440</td>\n",
       "      <td>651</td>\n",
       "      <td>6</td>\n",
       "      <td>0.0000</td>\n",
       "      <td>439</td>\n",
       "      <td>398</td>\n",
       "      <td>235</td>\n",
       "      <td>high</td>\n",
       "    </tr>\n",
       "    <tr>\n",
       "      <th>3</th>\n",
       "      <td>FIG-4447</td>\n",
       "      <td>261</td>\n",
       "      <td>195</td>\n",
       "      <td>0.9882</td>\n",
       "      <td>556</td>\n",
       "      <td>694</td>\n",
       "      <td>282</td>\n",
       "      <td>high</td>\n",
       "    </tr>\n",
       "    <tr>\n",
       "      <th>4</th>\n",
       "      <td>FIJ-4455</td>\n",
       "      <td>168</td>\n",
       "      <td>69</td>\n",
       "      <td>0.9948</td>\n",
       "      <td>1049</td>\n",
       "      <td>1238</td>\n",
       "      <td>528</td>\n",
       "      <td>high</td>\n",
       "    </tr>\n",
       "  </tbody>\n",
       "</table>\n",
       "</div>"
      ],
      "text/plain": [
       "         id   x1   x2      x3    x4    x5   x6 label\n",
       "0  FIO-4449  129  120  0.9887  1050  1320  572  high\n",
       "1  FIM-4450  140  271  0.9983   732   903  376  high\n",
       "2  FIG-4440  651    6  0.0000   439   398  235  high\n",
       "3  FIG-4447  261  195  0.9882   556   694  282  high\n",
       "4  FIJ-4455  168   69  0.9948  1049  1238  528  high"
      ]
     },
     "execution_count": 4,
     "metadata": {},
     "output_type": "execute_result"
    }
   ],
   "source": [
    "df2 = pd.read_csv('uji_coba2.csv')\n",
    "df2.head()"
   ]
  },
  {
   "cell_type": "code",
   "execution_count": 5,
   "metadata": {},
   "outputs": [
    {
     "data": {
      "text/plain": [
       "(17206, 8)"
      ]
     },
     "execution_count": 5,
     "metadata": {},
     "output_type": "execute_result"
    }
   ],
   "source": [
    "df2.shape"
   ]
  },
  {
   "cell_type": "code",
   "execution_count": 6,
   "metadata": {},
   "outputs": [
    {
     "data": {
      "text/html": [
       "<div>\n",
       "<style scoped>\n",
       "    .dataframe tbody tr th:only-of-type {\n",
       "        vertical-align: middle;\n",
       "    }\n",
       "\n",
       "    .dataframe tbody tr th {\n",
       "        vertical-align: top;\n",
       "    }\n",
       "\n",
       "    .dataframe thead th {\n",
       "        text-align: right;\n",
       "    }\n",
       "</style>\n",
       "<table border=\"1\" class=\"dataframe\">\n",
       "  <thead>\n",
       "    <tr style=\"text-align: right;\">\n",
       "      <th></th>\n",
       "      <th>id</th>\n",
       "      <th>x1</th>\n",
       "      <th>x2</th>\n",
       "      <th>x3</th>\n",
       "      <th>x4</th>\n",
       "      <th>x5</th>\n",
       "      <th>x6</th>\n",
       "      <th>label</th>\n",
       "    </tr>\n",
       "  </thead>\n",
       "  <tbody>\n",
       "    <tr>\n",
       "      <th>0</th>\n",
       "      <td>ERF-4688</td>\n",
       "      <td>0</td>\n",
       "      <td>15</td>\n",
       "      <td>0.0</td>\n",
       "      <td>0</td>\n",
       "      <td>0</td>\n",
       "      <td>0</td>\n",
       "      <td>low</td>\n",
       "    </tr>\n",
       "    <tr>\n",
       "      <th>1</th>\n",
       "      <td>EUO-4602</td>\n",
       "      <td>0</td>\n",
       "      <td>21</td>\n",
       "      <td>0.0</td>\n",
       "      <td>0</td>\n",
       "      <td>0</td>\n",
       "      <td>0</td>\n",
       "      <td>low</td>\n",
       "    </tr>\n",
       "    <tr>\n",
       "      <th>2</th>\n",
       "      <td>EUR-4639</td>\n",
       "      <td>0</td>\n",
       "      <td>15</td>\n",
       "      <td>0.0</td>\n",
       "      <td>0</td>\n",
       "      <td>0</td>\n",
       "      <td>0</td>\n",
       "      <td>low</td>\n",
       "    </tr>\n",
       "    <tr>\n",
       "      <th>3</th>\n",
       "      <td>EVL-4548</td>\n",
       "      <td>0</td>\n",
       "      <td>16</td>\n",
       "      <td>0.0</td>\n",
       "      <td>0</td>\n",
       "      <td>0</td>\n",
       "      <td>0</td>\n",
       "      <td>low</td>\n",
       "    </tr>\n",
       "    <tr>\n",
       "      <th>4</th>\n",
       "      <td>EVY-4534</td>\n",
       "      <td>0</td>\n",
       "      <td>15</td>\n",
       "      <td>0.0</td>\n",
       "      <td>0</td>\n",
       "      <td>0</td>\n",
       "      <td>0</td>\n",
       "      <td>low</td>\n",
       "    </tr>\n",
       "  </tbody>\n",
       "</table>\n",
       "</div>"
      ],
      "text/plain": [
       "         id  x1  x2   x3  x4  x5  x6 label\n",
       "0  ERF-4688   0  15  0.0   0   0   0   low\n",
       "1  EUO-4602   0  21  0.0   0   0   0   low\n",
       "2  EUR-4639   0  15  0.0   0   0   0   low\n",
       "3  EVL-4548   0  16  0.0   0   0   0   low\n",
       "4  EVY-4534   0  15  0.0   0   0   0   low"
      ]
     },
     "execution_count": 6,
     "metadata": {},
     "output_type": "execute_result"
    }
   ],
   "source": [
    "frames = [df1, df2]\n",
    "df = pd.concat(frames)\n",
    "df.head()"
   ]
  },
  {
   "cell_type": "code",
   "execution_count": 7,
   "metadata": {},
   "outputs": [
    {
     "data": {
      "text/plain": [
       "(42204, 8)"
      ]
     },
     "execution_count": 7,
     "metadata": {},
     "output_type": "execute_result"
    }
   ],
   "source": [
    "df.shape"
   ]
  },
  {
   "cell_type": "markdown",
   "metadata": {},
   "source": [
    "# Data Preparation"
   ]
  },
  {
   "cell_type": "markdown",
   "metadata": {},
   "source": [
    "- X-Y split\n",
    "- X Numerical imputation \n",
    "- X Handling outiler / Cap\n",
    "- Convert Y from categoric to numeric"
   ]
  },
  {
   "cell_type": "markdown",
   "metadata": {},
   "source": [
    "### X-Y Split"
   ]
  },
  {
   "cell_type": "code",
   "execution_count": 8,
   "metadata": {},
   "outputs": [],
   "source": [
    "feature = ['x1','x2','x3','x4','x5','x6']"
   ]
  },
  {
   "cell_type": "code",
   "execution_count": 9,
   "metadata": {},
   "outputs": [],
   "source": [
    "y = df['label']\n",
    "x = df[['x1','x2','x3','x4','x5','x6']]"
   ]
  },
  {
   "cell_type": "code",
   "execution_count": 10,
   "metadata": {},
   "outputs": [
    {
     "data": {
      "text/plain": [
       "[(42204,), (42204, 6)]"
      ]
     },
     "execution_count": 10,
     "metadata": {},
     "output_type": "execute_result"
    }
   ],
   "source": [
    "row = [0 for x in range(0,2)]\n",
    "row[0] = y.shape\n",
    "row[1] = x.shape\n",
    "row"
   ]
  },
  {
   "cell_type": "markdown",
   "metadata": {},
   "source": [
    "### Numerical Imputation"
   ]
  },
  {
   "cell_type": "code",
   "execution_count": 11,
   "metadata": {},
   "outputs": [],
   "source": [
    "from sklearn.preprocessing import Imputer"
   ]
  },
  {
   "cell_type": "code",
   "execution_count": 12,
   "metadata": {
    "collapsed": true,
    "jupyter": {
     "outputs_hidden": true
    }
   },
   "outputs": [],
   "source": [
    "def imputNumerical(x_train_numeric):\n",
    "    imput = Imputer(missing_values=\"NaN\", strategy=\"median\")\n",
    "    imput.fit(x_train_numeric) #cari mean per column\n",
    "    \n",
    "    x_train_numeric_imputed = pd.DataFrame(imput.transform(x_train_numeric)) # isi dengan mean\n",
    "    x_train_numeric_imputed.columns = x_train_numeric.columns\n",
    "    x_train_numeric_imputed.index = x_train_numeric.index\n",
    "    \n",
    "    \n",
    "    return x_train_numeric_imputed, imput\n",
    "    "
   ]
  },
  {
   "cell_type": "code",
   "execution_count": 13,
   "metadata": {},
   "outputs": [
    {
     "name": "stderr",
     "output_type": "stream",
     "text": [
      "C:\\Users\\940088\\Anaconda3\\lib\\site-packages\\sklearn\\utils\\deprecation.py:58: DeprecationWarning: Class Imputer is deprecated; Imputer was deprecated in version 0.20 and will be removed in 0.22. Import impute.SimpleImputer from sklearn instead.\n",
      "  warnings.warn(msg, category=DeprecationWarning)\n"
     ]
    }
   ],
   "source": [
    "x_imp, imp = imputNumerical(x)"
   ]
  },
  {
   "cell_type": "code",
   "execution_count": 14,
   "metadata": {},
   "outputs": [
    {
     "data": {
      "text/plain": [
       "x1    False\n",
       "x2    False\n",
       "x3    False\n",
       "x4    False\n",
       "x5    False\n",
       "x6    False\n",
       "dtype: bool"
      ]
     },
     "execution_count": 14,
     "metadata": {},
     "output_type": "execute_result"
    }
   ],
   "source": [
    "x_imp.isnull().any()"
   ]
  },
  {
   "cell_type": "code",
   "execution_count": 15,
   "metadata": {},
   "outputs": [
    {
     "data": {
      "text/plain": [
       "x1    False\n",
       "x2    False\n",
       "x3    False\n",
       "x4    False\n",
       "x5    False\n",
       "x6    False\n",
       "dtype: bool"
      ]
     },
     "execution_count": 15,
     "metadata": {},
     "output_type": "execute_result"
    }
   ],
   "source": [
    "x_imp.isna().any()"
   ]
  },
  {
   "cell_type": "markdown",
   "metadata": {},
   "source": [
    "### Handling Outliers"
   ]
  },
  {
   "cell_type": "code",
   "execution_count": 16,
   "metadata": {},
   "outputs": [],
   "source": [
    "non_zero_std = (np.std(x_imp,axis=0) !=0)\n",
    "x_imp = x_imp[x_imp.columns[non_zero_std]]"
   ]
  },
  {
   "cell_type": "code",
   "execution_count": 17,
   "metadata": {},
   "outputs": [],
   "source": [
    "mean_X = x_imp.mean()\n",
    "std_X = x_imp.std()\n",
    "up_bound =  x_imp + (3*std_X)\n",
    "low_bound =  x_imp - (3*std_X)\n",
    "more_than_up_bound = (x_imp > mean_X + (3*std_X))\n",
    "lower_than_low_bound = (x_imp < mean_X - (3*std_X))\n",
    "df_filter_cap = x_imp.mask(more_than_up_bound, up_bound, axis=1) \n",
    "df_filter_cap = df_filter_cap.mask(lower_than_low_bound, low_bound, axis=1)"
   ]
  },
  {
   "cell_type": "code",
   "execution_count": 18,
   "metadata": {},
   "outputs": [],
   "source": [
    "x_cap = df_filter_cap"
   ]
  },
  {
   "cell_type": "code",
   "execution_count": 19,
   "metadata": {},
   "outputs": [
    {
     "data": {
      "text/html": [
       "<div>\n",
       "<style scoped>\n",
       "    .dataframe tbody tr th:only-of-type {\n",
       "        vertical-align: middle;\n",
       "    }\n",
       "\n",
       "    .dataframe tbody tr th {\n",
       "        vertical-align: top;\n",
       "    }\n",
       "\n",
       "    .dataframe thead th {\n",
       "        text-align: right;\n",
       "    }\n",
       "</style>\n",
       "<table border=\"1\" class=\"dataframe\">\n",
       "  <thead>\n",
       "    <tr style=\"text-align: right;\">\n",
       "      <th></th>\n",
       "      <th>x1</th>\n",
       "      <th>x2</th>\n",
       "      <th>x3</th>\n",
       "      <th>x4</th>\n",
       "      <th>x5</th>\n",
       "      <th>x6</th>\n",
       "    </tr>\n",
       "  </thead>\n",
       "  <tbody>\n",
       "    <tr>\n",
       "      <th>0</th>\n",
       "      <td>0.0</td>\n",
       "      <td>15.0</td>\n",
       "      <td>0.0</td>\n",
       "      <td>0.0</td>\n",
       "      <td>0.0</td>\n",
       "      <td>0.0</td>\n",
       "    </tr>\n",
       "    <tr>\n",
       "      <th>1</th>\n",
       "      <td>0.0</td>\n",
       "      <td>21.0</td>\n",
       "      <td>0.0</td>\n",
       "      <td>0.0</td>\n",
       "      <td>0.0</td>\n",
       "      <td>0.0</td>\n",
       "    </tr>\n",
       "    <tr>\n",
       "      <th>2</th>\n",
       "      <td>0.0</td>\n",
       "      <td>15.0</td>\n",
       "      <td>0.0</td>\n",
       "      <td>0.0</td>\n",
       "      <td>0.0</td>\n",
       "      <td>0.0</td>\n",
       "    </tr>\n",
       "    <tr>\n",
       "      <th>3</th>\n",
       "      <td>0.0</td>\n",
       "      <td>16.0</td>\n",
       "      <td>0.0</td>\n",
       "      <td>0.0</td>\n",
       "      <td>0.0</td>\n",
       "      <td>0.0</td>\n",
       "    </tr>\n",
       "    <tr>\n",
       "      <th>4</th>\n",
       "      <td>0.0</td>\n",
       "      <td>15.0</td>\n",
       "      <td>0.0</td>\n",
       "      <td>0.0</td>\n",
       "      <td>0.0</td>\n",
       "      <td>0.0</td>\n",
       "    </tr>\n",
       "  </tbody>\n",
       "</table>\n",
       "</div>"
      ],
      "text/plain": [
       "    x1    x2   x3   x4   x5   x6\n",
       "0  0.0  15.0  0.0  0.0  0.0  0.0\n",
       "1  0.0  21.0  0.0  0.0  0.0  0.0\n",
       "2  0.0  15.0  0.0  0.0  0.0  0.0\n",
       "3  0.0  16.0  0.0  0.0  0.0  0.0\n",
       "4  0.0  15.0  0.0  0.0  0.0  0.0"
      ]
     },
     "execution_count": 19,
     "metadata": {},
     "output_type": "execute_result"
    }
   ],
   "source": [
    "x_cap.head()"
   ]
  },
  {
   "cell_type": "markdown",
   "metadata": {},
   "source": [
    "### Change Y into numeric"
   ]
  },
  {
   "cell_type": "code",
   "execution_count": 20,
   "metadata": {},
   "outputs": [],
   "source": [
    "y = y.replace('high', 1)\n",
    "y = y.replace('low', 0)"
   ]
  },
  {
   "cell_type": "code",
   "execution_count": 21,
   "metadata": {},
   "outputs": [
    {
     "data": {
      "text/plain": [
       "0    0\n",
       "1    0\n",
       "2    0\n",
       "3    0\n",
       "4    0\n",
       "Name: label, dtype: int64"
      ]
     },
     "execution_count": 21,
     "metadata": {},
     "output_type": "execute_result"
    }
   ],
   "source": [
    "y.head()"
   ]
  },
  {
   "cell_type": "markdown",
   "metadata": {},
   "source": [
    "# Feature Engineering"
   ]
  },
  {
   "cell_type": "markdown",
   "metadata": {},
   "source": [
    "- Standardization\n",
    "- Categorization/Discretization (if needed)\n",
    "- Train-Test split for modelling phase\n",
    "- Feature Selection (if needed)"
   ]
  },
  {
   "cell_type": "markdown",
   "metadata": {},
   "source": [
    "### Standard Scaler"
   ]
  },
  {
   "cell_type": "code",
   "execution_count": 22,
   "metadata": {},
   "outputs": [],
   "source": [
    "from sklearn.preprocessing import StandardScaler"
   ]
  },
  {
   "cell_type": "code",
   "execution_count": 23,
   "metadata": {},
   "outputs": [],
   "source": [
    "def standardizer(data):\n",
    "    data_columns = data.columns  # agar nama column tidak hilang\n",
    "    data_index = data.index # agar index tidak hilang\n",
    "    normalize = StandardScaler()\n",
    "    normalize.fit(data)\n",
    "    \n",
    "    normalize_x = pd.DataFrame(normalize.transform(data))\n",
    "    normalize_x.columns = data_columns\n",
    "    return normalize_x, normalize"
   ]
  },
  {
   "cell_type": "code",
   "execution_count": 24,
   "metadata": {},
   "outputs": [],
   "source": [
    "x_std, normalize = standardizer(x_cap)"
   ]
  },
  {
   "cell_type": "code",
   "execution_count": 25,
   "metadata": {},
   "outputs": [
    {
     "data": {
      "text/html": [
       "<div>\n",
       "<style scoped>\n",
       "    .dataframe tbody tr th:only-of-type {\n",
       "        vertical-align: middle;\n",
       "    }\n",
       "\n",
       "    .dataframe tbody tr th {\n",
       "        vertical-align: top;\n",
       "    }\n",
       "\n",
       "    .dataframe thead th {\n",
       "        text-align: right;\n",
       "    }\n",
       "</style>\n",
       "<table border=\"1\" class=\"dataframe\">\n",
       "  <thead>\n",
       "    <tr style=\"text-align: right;\">\n",
       "      <th></th>\n",
       "      <th>x1</th>\n",
       "      <th>x2</th>\n",
       "      <th>x3</th>\n",
       "      <th>x4</th>\n",
       "      <th>x5</th>\n",
       "      <th>x6</th>\n",
       "    </tr>\n",
       "  </thead>\n",
       "  <tbody>\n",
       "    <tr>\n",
       "      <th>0</th>\n",
       "      <td>-0.61191</td>\n",
       "      <td>-0.494256</td>\n",
       "      <td>-1.225846</td>\n",
       "      <td>-0.577725</td>\n",
       "      <td>-0.611711</td>\n",
       "      <td>-0.567866</td>\n",
       "    </tr>\n",
       "    <tr>\n",
       "      <th>1</th>\n",
       "      <td>-0.61191</td>\n",
       "      <td>-0.348778</td>\n",
       "      <td>-1.225846</td>\n",
       "      <td>-0.577725</td>\n",
       "      <td>-0.611711</td>\n",
       "      <td>-0.567866</td>\n",
       "    </tr>\n",
       "    <tr>\n",
       "      <th>2</th>\n",
       "      <td>-0.61191</td>\n",
       "      <td>-0.494256</td>\n",
       "      <td>-1.225846</td>\n",
       "      <td>-0.577725</td>\n",
       "      <td>-0.611711</td>\n",
       "      <td>-0.567866</td>\n",
       "    </tr>\n",
       "    <tr>\n",
       "      <th>3</th>\n",
       "      <td>-0.61191</td>\n",
       "      <td>-0.470010</td>\n",
       "      <td>-1.225846</td>\n",
       "      <td>-0.577725</td>\n",
       "      <td>-0.611711</td>\n",
       "      <td>-0.567866</td>\n",
       "    </tr>\n",
       "    <tr>\n",
       "      <th>4</th>\n",
       "      <td>-0.61191</td>\n",
       "      <td>-0.494256</td>\n",
       "      <td>-1.225846</td>\n",
       "      <td>-0.577725</td>\n",
       "      <td>-0.611711</td>\n",
       "      <td>-0.567866</td>\n",
       "    </tr>\n",
       "  </tbody>\n",
       "</table>\n",
       "</div>"
      ],
      "text/plain": [
       "        x1        x2        x3        x4        x5        x6\n",
       "0 -0.61191 -0.494256 -1.225846 -0.577725 -0.611711 -0.567866\n",
       "1 -0.61191 -0.348778 -1.225846 -0.577725 -0.611711 -0.567866\n",
       "2 -0.61191 -0.494256 -1.225846 -0.577725 -0.611711 -0.567866\n",
       "3 -0.61191 -0.470010 -1.225846 -0.577725 -0.611711 -0.567866\n",
       "4 -0.61191 -0.494256 -1.225846 -0.577725 -0.611711 -0.567866"
      ]
     },
     "execution_count": 25,
     "metadata": {},
     "output_type": "execute_result"
    }
   ],
   "source": [
    "x_std.head()"
   ]
  },
  {
   "cell_type": "markdown",
   "metadata": {},
   "source": [
    "### Quantile Discretization"
   ]
  },
  {
   "cell_type": "code",
   "execution_count": 26,
   "metadata": {},
   "outputs": [],
   "source": [
    "x_cat = x_std.copy()"
   ]
  },
  {
   "cell_type": "code",
   "execution_count": 27,
   "metadata": {},
   "outputs": [],
   "source": [
    "label = [1, 2, 3, 4, 5]\n",
    "x_cat['x1'] = pd.qcut(x_cat['x1'].rank(method='first'), q=[0, .2, .4, .6, .8, 1], labels=label)\n",
    "x_cat['x2'] = pd.qcut(x_cat['x2'].rank(method='first'), q=[0, .2, .4, .6, .8, 1], labels=label)\n",
    "x_cat['x3'] = pd.qcut(x_cat['x3'].rank(method='first'), q=[0, .2, .4, .6, .8, 1], labels=label)\n",
    "x_cat['x4'] = pd.qcut(x_cat['x4'].rank(method='first'), q=[0, .2, .4, .6, .8, 1], labels=label)\n",
    "x_cat['x5'] = pd.qcut(x_cat['x5'].rank(method='first'), q=[0, .2, .4, .6, .8, 1], labels=label)\n",
    "x_cat['x6'] = pd.qcut(x_cat['x6'].rank(method='first'), q=[0, .2, .4, .6, .8, 1], labels=label)"
   ]
  },
  {
   "cell_type": "code",
   "execution_count": 28,
   "metadata": {},
   "outputs": [
    {
     "data": {
      "text/html": [
       "<div>\n",
       "<style scoped>\n",
       "    .dataframe tbody tr th:only-of-type {\n",
       "        vertical-align: middle;\n",
       "    }\n",
       "\n",
       "    .dataframe tbody tr th {\n",
       "        vertical-align: top;\n",
       "    }\n",
       "\n",
       "    .dataframe thead th {\n",
       "        text-align: right;\n",
       "    }\n",
       "</style>\n",
       "<table border=\"1\" class=\"dataframe\">\n",
       "  <thead>\n",
       "    <tr style=\"text-align: right;\">\n",
       "      <th></th>\n",
       "      <th>x1</th>\n",
       "      <th>x2</th>\n",
       "      <th>x3</th>\n",
       "      <th>x4</th>\n",
       "      <th>x5</th>\n",
       "      <th>x6</th>\n",
       "    </tr>\n",
       "  </thead>\n",
       "  <tbody>\n",
       "    <tr>\n",
       "      <th>0</th>\n",
       "      <td>1</td>\n",
       "      <td>2</td>\n",
       "      <td>1</td>\n",
       "      <td>1</td>\n",
       "      <td>1</td>\n",
       "      <td>1</td>\n",
       "    </tr>\n",
       "    <tr>\n",
       "      <th>1</th>\n",
       "      <td>1</td>\n",
       "      <td>3</td>\n",
       "      <td>1</td>\n",
       "      <td>1</td>\n",
       "      <td>1</td>\n",
       "      <td>1</td>\n",
       "    </tr>\n",
       "    <tr>\n",
       "      <th>2</th>\n",
       "      <td>1</td>\n",
       "      <td>2</td>\n",
       "      <td>1</td>\n",
       "      <td>1</td>\n",
       "      <td>1</td>\n",
       "      <td>1</td>\n",
       "    </tr>\n",
       "    <tr>\n",
       "      <th>3</th>\n",
       "      <td>1</td>\n",
       "      <td>2</td>\n",
       "      <td>1</td>\n",
       "      <td>1</td>\n",
       "      <td>1</td>\n",
       "      <td>1</td>\n",
       "    </tr>\n",
       "    <tr>\n",
       "      <th>4</th>\n",
       "      <td>1</td>\n",
       "      <td>2</td>\n",
       "      <td>1</td>\n",
       "      <td>1</td>\n",
       "      <td>1</td>\n",
       "      <td>1</td>\n",
       "    </tr>\n",
       "  </tbody>\n",
       "</table>\n",
       "</div>"
      ],
      "text/plain": [
       "  x1 x2 x3 x4 x5 x6\n",
       "0  1  2  1  1  1  1\n",
       "1  1  3  1  1  1  1\n",
       "2  1  2  1  1  1  1\n",
       "3  1  2  1  1  1  1\n",
       "4  1  2  1  1  1  1"
      ]
     },
     "execution_count": 28,
     "metadata": {},
     "output_type": "execute_result"
    }
   ],
   "source": [
    "x_cat.head()"
   ]
  },
  {
   "cell_type": "code",
   "execution_count": 29,
   "metadata": {},
   "outputs": [
    {
     "data": {
      "text/plain": [
       "x1    False\n",
       "x2    False\n",
       "x3    False\n",
       "x4    False\n",
       "x5    False\n",
       "x6    False\n",
       "dtype: bool"
      ]
     },
     "execution_count": 29,
     "metadata": {},
     "output_type": "execute_result"
    }
   ],
   "source": [
    "x_cat.isna().any()"
   ]
  },
  {
   "cell_type": "code",
   "execution_count": 30,
   "metadata": {},
   "outputs": [
    {
     "data": {
      "text/plain": [
       "x1    False\n",
       "x2    False\n",
       "x3    False\n",
       "x4    False\n",
       "x5    False\n",
       "x6    False\n",
       "dtype: bool"
      ]
     },
     "execution_count": 30,
     "metadata": {},
     "output_type": "execute_result"
    }
   ],
   "source": [
    "x_cat.isnull().any()"
   ]
  },
  {
   "cell_type": "markdown",
   "metadata": {},
   "source": [
    "### Train Test Split"
   ]
  },
  {
   "cell_type": "code",
   "execution_count": 31,
   "metadata": {},
   "outputs": [],
   "source": [
    "from sklearn.model_selection import train_test_split"
   ]
  },
  {
   "cell_type": "code",
   "execution_count": 32,
   "metadata": {},
   "outputs": [],
   "source": [
    "x_train, x_test, y_train, y_test = train_test_split(x_std, y, test_size=0.30, random_state=42)"
   ]
  },
  {
   "cell_type": "code",
   "execution_count": 33,
   "metadata": {},
   "outputs": [
    {
     "name": "stdout",
     "output_type": "stream",
     "text": [
      "(29542, 6) (12662, 6) (29542,) (12662,)\n"
     ]
    }
   ],
   "source": [
    "print(x_train.shape, x_test.shape, y_train.shape, y_test.shape)"
   ]
  },
  {
   "cell_type": "markdown",
   "metadata": {},
   "source": [
    "### Feature Selection with Multicolinearity Check"
   ]
  },
  {
   "cell_type": "code",
   "execution_count": 34,
   "metadata": {},
   "outputs": [],
   "source": [
    "#Feature Selection (Remove Multicollinearity)\n",
    "import os\n",
    "import csv\n",
    "import pickle\n",
    "import pandas as pd\n",
    "import numpy as np\n",
    "import math\n",
    "from scipy.stats import uniform\n",
    "#from pyspark.sql import SQLContext\n",
    "from sklearn.preprocessing import Imputer"
   ]
  },
  {
   "cell_type": "code",
   "execution_count": 35,
   "metadata": {},
   "outputs": [],
   "source": [
    "from sklearn.base import BaseEstimator, TransformerMixin\n",
    "from sklearn.preprocessing import Imputer\n",
    "from statsmodels.stats.outliers_influence import variance_inflation_factor"
   ]
  },
  {
   "cell_type": "code",
   "execution_count": 36,
   "metadata": {},
   "outputs": [],
   "source": [
    "class ReduceVIF(BaseEstimator, TransformerMixin):\n",
    "    def __init__(self, thresh=5.0, impute=True, impute_strategy='median'):\n",
    "        self.thresh = thresh\n",
    "        \n",
    "\n",
    "        if impute:\n",
    "            self.imputer = Imputer(strategy=impute_strategy)\n",
    "\n",
    "    def fit(self, X, y=None):\n",
    "        print('ReduceVIF fit')\n",
    "        if hasattr(self, 'imputer'):\n",
    "            self.imputer.fit(X)\n",
    "        return self\n",
    "\n",
    "    def transform(self, X, y=None):\n",
    "        print('ReduceVIF transform')\n",
    "        columns = X.columns.tolist()\n",
    "        if hasattr(self, 'imputer'):\n",
    "            X = pd.DataFrame(self.imputer.transform(X), columns=columns)\n",
    "        return ReduceVIF.calculate_vif(X, self.thresh)\n",
    "\n",
    "    @staticmethod\n",
    "    def calculate_vif(X, thresh=5.0):\n",
    "        filename = 'VIF_score.csv'\n",
    "        if os.path.isfile(filename):\n",
    "            os.remove(filename)\n",
    "        \n",
    "        with open(filename, 'a') as outfile:\n",
    "            # Save vif score into csv file, method=append\n",
    "            writer     = csv.writer(outfile, lineterminator = '\\n')\n",
    "            writer.writerow(['Attribute|Variance Inflation|Status'])\n",
    "            \n",
    "        \n",
    "            dropped=True\n",
    "            count = 0\n",
    "            while dropped:\n",
    "                variables = X.columns\n",
    "                dropped=False\n",
    "                vif = []\n",
    "                new_vif = 0\n",
    "                for var in X.columns:\n",
    "                    new_vif = variance_inflation_factor(X[variables].values, X.columns.get_loc(var))\n",
    "                    vif.append(new_vif)\n",
    "                    if np.isinf(new_vif):\n",
    "                        break\n",
    "                max_vif = max(vif)\n",
    "                if max_vif > thresh:\n",
    "                    count+=1\n",
    "                    maxloc = vif.index(max_vif)\n",
    "                    print('{count} Dropping {column} with vif={max_vif}'.format(count=count, column=X.columns[maxloc],max_vif=max_vif))\n",
    "                    result = str(X.columns[maxloc]) + '|' + str(max_vif) + '|Removed'\n",
    "                    writer.writerow([result])\n",
    "                    X = X.drop([X.columns.tolist()[maxloc]], axis=1)\n",
    "                    dropped=True\n",
    "\n",
    "            for idx in range(len(X.columns)):\n",
    "                if(math.isnan(vif[idx]) or vif[idx]<1):\n",
    "                    print('Dropping {column} with vif={vif}'.format(column = X.columns[idx], vif=vif[idx]))\n",
    "                    result = str(X.columns[idx]) + '|' + str(vif[idx]) + '|Removed'\n",
    "                    writer.writerow([result])\n",
    "                else:\n",
    "                    print('Select {column} with vif={vif}'.format(column = X.columns[idx], vif=vif[idx]))\n",
    "                    result = str(X.columns[idx]) + '|' + str(vif[idx]) + '|Selected'\n",
    "                    writer.writerow([result])\n",
    "        \n",
    "        return X"
   ]
  },
  {
   "cell_type": "code",
   "execution_count": 37,
   "metadata": {},
   "outputs": [
    {
     "name": "stderr",
     "output_type": "stream",
     "text": [
      "C:\\Users\\940088\\Anaconda3\\lib\\site-packages\\sklearn\\utils\\deprecation.py:58: DeprecationWarning: Class Imputer is deprecated; Imputer was deprecated in version 0.20 and will be removed in 0.22. Import impute.SimpleImputer from sklearn instead.\n",
      "  warnings.warn(msg, category=DeprecationWarning)\n"
     ]
    },
    {
     "name": "stdout",
     "output_type": "stream",
     "text": [
      "ReduceVIF fit\n",
      "ReduceVIF transform\n",
      "1 Dropping x4 with vif=66.52784255092158\n",
      "2 Dropping x6 with vif=10.53297476313127\n",
      "Select x1 with vif=1.7622480910715133\n",
      "Select x2 with vif=1.2477268457677384\n",
      "Select x3 with vif=1.224965425117453\n",
      "Select x5 with vif=1.724582736635621\n",
      "4\n",
      "['x1', 'x2', 'x3', 'x5']\n"
     ]
    }
   ],
   "source": [
    "transformer  = ReduceVIF(thresh=2)\n",
    "df_vif       = transformer.fit_transform(x_train, y_train)\n",
    "features_vif = list(df_vif.columns)\n",
    "\n",
    "print(len(features_vif))\n",
    "print(features_vif)"
   ]
  },
  {
   "cell_type": "code",
   "execution_count": 38,
   "metadata": {},
   "outputs": [],
   "source": [
    "hasil_multicol = features_vif"
   ]
  },
  {
   "cell_type": "code",
   "execution_count": 39,
   "metadata": {},
   "outputs": [
    {
     "data": {
      "text/plain": [
       "4"
      ]
     },
     "execution_count": 39,
     "metadata": {},
     "output_type": "execute_result"
    }
   ],
   "source": [
    "len(hasil_multicol)"
   ]
  },
  {
   "cell_type": "markdown",
   "metadata": {},
   "source": [
    "# Exploratory Data Analysis"
   ]
  },
  {
   "cell_type": "markdown",
   "metadata": {},
   "source": [
    "- Check distribution for each feature\n",
    "- Check data composition in train and test data "
   ]
  },
  {
   "cell_type": "markdown",
   "metadata": {},
   "source": [
    "### Check distribution"
   ]
  },
  {
   "cell_type": "code",
   "execution_count": 40,
   "metadata": {
    "collapsed": true,
    "jupyter": {
     "outputs_hidden": true
    }
   },
   "outputs": [],
   "source": [
    "import seaborn as sns\n",
    "sns.set_style(\"whitegrid\")\n",
    "%matplotlib inline\n",
    "import pandas as pd\n",
    "import scipy.stats as stats\n",
    "import researchpy as rp\n",
    "import statsmodels.api as sm\n",
    "from statsmodels.formula.api import ols  \n",
    "import matplotlib.pyplot as plt\n",
    "import numpy as np"
   ]
  },
  {
   "cell_type": "code",
   "execution_count": 41,
   "metadata": {
    "collapsed": true,
    "jupyter": {
     "outputs_hidden": true
    }
   },
   "outputs": [
    {
     "data": {
      "text/html": [
       "<div>\n",
       "<style scoped>\n",
       "    .dataframe tbody tr th:only-of-type {\n",
       "        vertical-align: middle;\n",
       "    }\n",
       "\n",
       "    .dataframe tbody tr th {\n",
       "        vertical-align: top;\n",
       "    }\n",
       "\n",
       "    .dataframe thead th {\n",
       "        text-align: right;\n",
       "    }\n",
       "</style>\n",
       "<table border=\"1\" class=\"dataframe\">\n",
       "  <thead>\n",
       "    <tr style=\"text-align: right;\">\n",
       "      <th></th>\n",
       "      <th>x1</th>\n",
       "      <th>x2</th>\n",
       "      <th>x3</th>\n",
       "      <th>x4</th>\n",
       "      <th>x5</th>\n",
       "      <th>x6</th>\n",
       "      <th>label</th>\n",
       "    </tr>\n",
       "  </thead>\n",
       "  <tbody>\n",
       "    <tr>\n",
       "      <th>0</th>\n",
       "      <td>-0.61191</td>\n",
       "      <td>-0.494256</td>\n",
       "      <td>-1.225846</td>\n",
       "      <td>-0.577725</td>\n",
       "      <td>-0.611711</td>\n",
       "      <td>-0.567866</td>\n",
       "      <td>0.0</td>\n",
       "    </tr>\n",
       "    <tr>\n",
       "      <th>2</th>\n",
       "      <td>-0.61191</td>\n",
       "      <td>-0.494256</td>\n",
       "      <td>-1.225846</td>\n",
       "      <td>-0.577725</td>\n",
       "      <td>-0.611711</td>\n",
       "      <td>-0.567866</td>\n",
       "      <td>0.0</td>\n",
       "    </tr>\n",
       "    <tr>\n",
       "      <th>2</th>\n",
       "      <td>-0.61191</td>\n",
       "      <td>-0.494256</td>\n",
       "      <td>-1.225846</td>\n",
       "      <td>-0.577725</td>\n",
       "      <td>-0.611711</td>\n",
       "      <td>-0.567866</td>\n",
       "      <td>1.0</td>\n",
       "    </tr>\n",
       "    <tr>\n",
       "      <th>3</th>\n",
       "      <td>-0.61191</td>\n",
       "      <td>-0.470010</td>\n",
       "      <td>-1.225846</td>\n",
       "      <td>-0.577725</td>\n",
       "      <td>-0.611711</td>\n",
       "      <td>-0.567866</td>\n",
       "      <td>0.0</td>\n",
       "    </tr>\n",
       "    <tr>\n",
       "      <th>4</th>\n",
       "      <td>NaN</td>\n",
       "      <td>NaN</td>\n",
       "      <td>NaN</td>\n",
       "      <td>NaN</td>\n",
       "      <td>NaN</td>\n",
       "      <td>NaN</td>\n",
       "      <td>1.0</td>\n",
       "    </tr>\n",
       "  </tbody>\n",
       "</table>\n",
       "</div>"
      ],
      "text/plain": [
       "        x1        x2        x3        x4        x5        x6  label\n",
       "0 -0.61191 -0.494256 -1.225846 -0.577725 -0.611711 -0.567866    0.0\n",
       "2 -0.61191 -0.494256 -1.225846 -0.577725 -0.611711 -0.567866    0.0\n",
       "2 -0.61191 -0.494256 -1.225846 -0.577725 -0.611711 -0.567866    1.0\n",
       "3 -0.61191 -0.470010 -1.225846 -0.577725 -0.611711 -0.567866    0.0\n",
       "4      NaN       NaN       NaN       NaN       NaN       NaN    1.0"
      ]
     },
     "execution_count": 41,
     "metadata": {},
     "output_type": "execute_result"
    }
   ],
   "source": [
    "data_eda = x_train.join(y_train, how='outer')\n",
    "data_eda.head()"
   ]
  },
  {
   "cell_type": "code",
   "execution_count": 42,
   "metadata": {},
   "outputs": [],
   "source": [
    "col_num = list(x_train[feature])"
   ]
  },
  {
   "cell_type": "code",
   "execution_count": 43,
   "metadata": {},
   "outputs": [],
   "source": [
    "df_num=data_eda[col_num+['label']]\n",
    "for col in col_num:\n",
    "    try:\n",
    "        df_num[col]=df_num[col].astype(float)\n",
    "    except:\n",
    "        print(col)"
   ]
  },
  {
   "cell_type": "code",
   "execution_count": 44,
   "metadata": {},
   "outputs": [],
   "source": [
    "df_num[col] = df_num[col].apply(pd.to_numeric, downcast='float', errors='coerce')\n"
   ]
  },
  {
   "cell_type": "code",
   "execution_count": 45,
   "metadata": {},
   "outputs": [],
   "source": [
    "for col in col_num:\n",
    "#     df_num[col]=df_num[col].fillna(np.median(df_num[~(df_num[col].isna())][col]))\n",
    "    df_num[col]=df_num[col].fillna(0)"
   ]
  },
  {
   "cell_type": "code",
   "execution_count": 46,
   "metadata": {},
   "outputs": [
    {
     "name": "stdout",
     "output_type": "stream",
     "text": [
      "F_onewayResult(statistic=1628.2508588421565, pvalue=0.0)\n",
      "F_onewayResult(statistic=615.1597180532328, pvalue=2.0083812753083814e-134)\n",
      "F_onewayResult(statistic=112.42926574215554, pvalue=3.2075855321917415e-26)\n",
      "F_onewayResult(statistic=1310.8285709906324, pvalue=6.983873680187726e-281)\n",
      "F_onewayResult(statistic=1502.2355704753104, pvalue=1.385e-320)\n",
      "F_onewayResult(statistic=1267.367963146605, pvalue=7.831348327340393e-272)\n"
     ]
    }
   ],
   "source": [
    "for col in col_num:\n",
    "    df3=df_num[[col,'label']]\n",
    "    res=stats.f_oneway(df3[df3.label==1][col],\n",
    "                   df3[df3.label==0][col])\n",
    "    print(res)"
   ]
  },
  {
   "cell_type": "code",
   "execution_count": 47,
   "metadata": {},
   "outputs": [
    {
     "name": "stderr",
     "output_type": "stream",
     "text": [
      "C:\\Users\\940088\\Anaconda3\\lib\\site-packages\\ipykernel_launcher.py:21: SettingWithCopyWarning: \n",
      "A value is trying to be set on a copy of a slice from a DataFrame.\n",
      "Try using .loc[row_indexer,col_indexer] = value instead\n",
      "\n",
      "See the caveats in the documentation: http://pandas.pydata.org/pandas-docs/stable/indexing.html#indexing-view-versus-copy\n",
      "C:\\Users\\940088\\Anaconda3\\lib\\site-packages\\ipykernel_launcher.py:22: SettingWithCopyWarning: \n",
      "A value is trying to be set on a copy of a slice from a DataFrame.\n",
      "Try using .loc[row_indexer,col_indexer] = value instead\n",
      "\n",
      "See the caveats in the documentation: http://pandas.pydata.org/pandas-docs/stable/indexing.html#indexing-view-versus-copy\n"
     ]
    },
    {
     "data": {
      "image/png": "[encoded data removed]",
      "text/plain": [
       "<Figure size 432x288 with 2 Axes>"
      ]
     },
     "metadata": {
      "needs_background": "light"
     },
     "output_type": "display_data"
    },
    {
     "data": {
      "image/png": "[encoded data removed]",
      "text/plain": [
       "<Figure size 432x288 with 2 Axes>"
      ]
     },
     "metadata": {
      "needs_background": "light"
     },
     "output_type": "display_data"
    },
    {
     "data": {
      "image/png": "[encoded data removed]",
      "text/plain": [
       "<Figure size 432x288 with 2 Axes>"
      ]
     },
     "metadata": {
      "needs_background": "light"
     },
     "output_type": "display_data"
    },
    {
     "data": {
      "image/png": "[encoded data removed]",
      "text/plain": [
       "<Figure size 432x288 with 2 Axes>"
      ]
     },
     "metadata": {
      "needs_background": "light"
     },
     "output_type": "display_data"
    },
    {
     "data": {
      "image/png": "[encoded data removed]",
      "text/plain": [
       "<Figure size 432x288 with 2 Axes>"
      ]
     },
     "metadata": {
      "needs_background": "light"
     },
     "output_type": "display_data"
    },
    {
     "data": {
      "image/png": "[encoded data removed]",
      "text/plain": [
       "<Figure size 432x288 with 2 Axes>"
      ]
     },
     "metadata": {
      "needs_background": "light"
     },
     "output_type": "display_data"
    }
   ],
   "source": [
    "import numpy as np\n",
    "import pandas\n",
    "import matplotlib.pyplot as plt\n",
    "\n",
    "for var in col_num:\n",
    "    n_unique = (data_eda[[var]].nunique())[0]\n",
    "    df_tmp = data_eda[[var,'label']]\n",
    "    \n",
    "    #print(var)\n",
    "    \n",
    "    if n_unique <= 10:\n",
    "        df_tmp[var] = df_tmp[var].astype(str)\n",
    "        f = {'label':['count','sum']}\n",
    "        agg = df_tmp.groupby(var).agg(f)\n",
    "        agg.columns = ['total_cust', 'total_high']\n",
    "        agg['high_rate'] = 100.0 * agg['total_high'] / agg['total_cust']\n",
    "        x_lab = 'Category of ' + var\n",
    "        p_tit = 'high rate vs total customer by ' + var\n",
    "           \n",
    "    else:\n",
    "        df_tmp[var] = df_tmp[var].astype(float).fillna(0.0)\n",
    "        df_tmp['bin'] = pd.qcut(data_eda[var], 10, labels=False, duplicates = 'drop')\n",
    "\n",
    "        #print('Percentile:')\n",
    "        percentile = df_tmp[[var]].quantile([0, .1, .2, .3, .4, .5, .6, .7, .8, .9, 1])\n",
    "        #print(percentile)\n",
    "        \n",
    "        f = {'label':['count','sum'], var:['min', 'max']}\n",
    "        agg = df_tmp.groupby('bin').agg(f)\n",
    "        agg.columns = ['total_cust', 'total_high', 'min_val', 'max_val']    \n",
    "        agg['high_rate'] = 100.0 * agg['total_high'] / agg['total_cust']\n",
    "        agg.index = agg.index.map(str)\n",
    "\n",
    "        #agg.loc[:,'risk_rate'] = 100.0 * agg['total_risk'] / agg['total_cust']\n",
    "        #agg.loc[:,'risk_rate'] = 100.0 * agg['total_risk'] / agg['total_cust']\n",
    "        \n",
    "        x_lab = 'Percentile of ' + var\n",
    "        p_tit = 'high rate vs total customer by percentile of ' + var\n",
    "        \n",
    "    #print('\\nAggregate value:')\n",
    "    #print(agg)\n",
    "\n",
    "    # grafik\n",
    "    \n",
    "  # grafik\n",
    "    \n",
    "    agg_row = agg.shape[0]\n",
    "    if agg_row == 0:\n",
    "        print('Only 0 category left. Iteration skipped. Graph is not created')\n",
    "        print('')\n",
    "        continue\n",
    "\n",
    "    x = agg.index\n",
    "    y1 = agg['total_cust']\n",
    "    y2 = agg['high_rate']\n",
    "\n",
    "    fig, ax1 = plt.subplots()\n",
    "    ax1.bar(x, y1)\n",
    "\n",
    "    ax2 = ax1.twinx()\n",
    "    ax2.plot(x, y2, 'r-', marker = 'o')\n",
    "\n",
    "    ax1.set_xlabel(x_lab)\n",
    "    ax1.set_ylabel('total customer')\n",
    "    ax2.set_ylabel('% high rate')\n",
    "    plt.title(p_tit)\n",
    "\n",
    "    fig.tight_layout()"
   ]
  },
  {
   "cell_type": "markdown",
   "metadata": {},
   "source": [
    "### Data Composition"
   ]
  },
  {
   "cell_type": "code",
   "execution_count": 48,
   "metadata": {},
   "outputs": [],
   "source": [
    "data_train = x_train.join(y_train, how='outer')\n",
    "data_test = x_test.join(y_test, how='outer')"
   ]
  },
  {
   "cell_type": "code",
   "execution_count": 49,
   "metadata": {},
   "outputs": [
    {
     "name": "stdout",
     "output_type": "stream",
     "text": [
      "Class 0: 17489\n",
      "Class 1: 12053\n",
      "Proportion: 1.45 : 1\n"
     ]
    },
    {
     "data": {
      "image/png": "[encoded data removed]",
      "text/plain": [
       "<Figure size 432x288 with 1 Axes>"
      ]
     },
     "metadata": {
      "needs_background": "light"
     },
     "output_type": "display_data"
    }
   ],
   "source": [
    "import numpy as np\n",
    "import pandas as pd\n",
    "\n",
    "target_count = data_train.label.value_counts()\n",
    "print('Class 0:', target_count[0])\n",
    "print('Class 1:', target_count[1])\n",
    "print('Proportion:', round(target_count[0] / target_count[1], 2), ': 1')\n",
    "\n",
    "target_count.plot(kind='bar', title='Count (target)');"
   ]
  },
  {
   "cell_type": "code",
   "execution_count": 50,
   "metadata": {},
   "outputs": [
    {
     "name": "stdout",
     "output_type": "stream",
     "text": [
      "Class 0: 7509\n",
      "Class 1: 5153\n",
      "Proportion: 1.46 : 1\n"
     ]
    },
    {
     "data": {
      "image/png": "[encoded data removed]",
      "text/plain": [
       "<Figure size 432x288 with 1 Axes>"
      ]
     },
     "metadata": {
      "needs_background": "light"
     },
     "output_type": "display_data"
    }
   ],
   "source": [
    "import numpy as np\n",
    "import pandas as pd\n",
    "\n",
    "target_count = data_test.label.value_counts()\n",
    "print('Class 0:', target_count[0])\n",
    "print('Class 1:', target_count[1])\n",
    "print('Proportion:', round(target_count[0] / target_count[1], 2), ': 1')\n",
    "\n",
    "target_count.plot(kind='bar', title='Count (target)');"
   ]
  },
  {
   "cell_type": "markdown",
   "metadata": {},
   "source": [
    "# Building Model"
   ]
  },
  {
   "cell_type": "markdown",
   "metadata": {},
   "source": [
    "- Import all package & create function for modelling\n",
    "- Logistic Regression Modelling with Cross Validation\n",
    "- Checek the model equation\n",
    "- Evaluate model through test data"
   ]
  },
  {
   "cell_type": "markdown",
   "metadata": {},
   "source": [
    "### Modelling Function"
   ]
  },
  {
   "cell_type": "markdown",
   "metadata": {},
   "source": [
    "###### Cross-Validation: Best Hyperparameter Evaluation"
   ]
  },
  {
   "cell_type": "code",
   "execution_count": 51,
   "metadata": {},
   "outputs": [],
   "source": [
    "from sklearn.pipeline import Pipeline\n",
    "from sklearn.model_selection import StratifiedKFold\n",
    "from sklearn.model_selection import GridSearchCV, RandomizedSearchCV"
   ]
  },
  {
   "cell_type": "markdown",
   "metadata": {},
   "source": [
    "###### Model Linear: Logistic Regression"
   ]
  },
  {
   "cell_type": "code",
   "execution_count": 52,
   "metadata": {},
   "outputs": [],
   "source": [
    "from sklearn.linear_model import LogisticRegression"
   ]
  },
  {
   "cell_type": "markdown",
   "metadata": {},
   "source": [
    "###### Model Evaluation"
   ]
  },
  {
   "cell_type": "code",
   "execution_count": 53,
   "metadata": {},
   "outputs": [],
   "source": [
    "from sklearn.metrics import classification_report\n",
    "from sklearn.metrics import confusion_matrix\n",
    "from sklearn.metrics import roc_curve, auc\n",
    "from sklearn.metrics import accuracy_score, precision_score, recall_score, roc_auc_score, log_loss"
   ]
  },
  {
   "cell_type": "markdown",
   "metadata": {},
   "source": [
    "###### Data Manipulation"
   ]
  },
  {
   "cell_type": "code",
   "execution_count": 54,
   "metadata": {},
   "outputs": [],
   "source": [
    "import pandas as pd\n",
    "import numpy as np\n",
    "from scipy.stats import uniform"
   ]
  },
  {
   "cell_type": "markdown",
   "metadata": {},
   "source": [
    "###### Plotting"
   ]
  },
  {
   "cell_type": "code",
   "execution_count": 55,
   "metadata": {},
   "outputs": [],
   "source": [
    "import matplotlib.pyplot as plt"
   ]
  },
  {
   "cell_type": "markdown",
   "metadata": {},
   "source": [
    "###### Timer"
   ]
  },
  {
   "cell_type": "code",
   "execution_count": 56,
   "metadata": {},
   "outputs": [],
   "source": [
    "import timeit"
   ]
  },
  {
   "cell_type": "markdown",
   "metadata": {},
   "source": [
    "###### Save-Load File"
   ]
  },
  {
   "cell_type": "code",
   "execution_count": 57,
   "metadata": {},
   "outputs": [],
   "source": [
    "import pickle"
   ]
  },
  {
   "cell_type": "markdown",
   "metadata": {},
   "source": [
    "###### Tuning Hyperparameter using Randomized Search CV"
   ]
  },
  {
   "cell_type": "code",
   "execution_count": 58,
   "metadata": {},
   "outputs": [],
   "source": [
    "def bestparam_randCV(model,hyperparam,x_train, y_train, n_iter=10):\n",
    "    \n",
    "    hyperparam = hyperparam\n",
    "    randomizedCV = RandomizedSearchCV(model, param_distributions = hyperparam, cv = 10,\n",
    "                                          n_iter = n_iter, scoring = 'roc_auc', n_jobs=-1, \n",
    "                                          random_state = 42, verbose = True)\n",
    "    randomizedCV.fit(x_train, y_train)\n",
    "    \n",
    "    #print (randomizedCV.cv_results_)\n",
    "    print ('Best ROC_AUC', randomizedCV.score(x_train, y_train))\n",
    "    print ('Best Param', randomizedCV.best_params_)\n",
    "    return randomizedCV"
   ]
  },
  {
   "cell_type": "markdown",
   "metadata": {},
   "source": [
    "###### Model Evaluation"
   ]
  },
  {
   "cell_type": "code",
   "execution_count": 59,
   "metadata": {},
   "outputs": [],
   "source": [
    "def model_performace(model, x_test, y_test):\n",
    "    #Make Prediction\n",
    "    y_pred       = model.predict(x_test)\n",
    "    y_pred_proba = model.predict_proba(x_test)\n",
    "\n",
    "    #Generate model performance\n",
    "    print('')\n",
    "    print(classification_report(y_test, y_pred))\n",
    "\n",
    "    tn, fp, fn, tp = confusion_matrix(y_test, y_pred).ravel()\n",
    "\n",
    "    print('Confusion Matrix : ' + \"[\" + str(tp) + \",\" + str(fp) + \"][\" + str(fn) + \",\" + str(tn) + \"]\")\n",
    "    print(\"\")\n",
    "\n",
    "    fpr,tpr,threshold = roc_curve(y_test, y_pred)\n",
    "    score_auc = auc(fpr, tpr)\n",
    "    score_rocauc = roc_auc_score(y_test, y_pred_proba[:,1])\n",
    "\n",
    "    print('Accuracy      : {0:2.6f}'.format((tp+tn)*1./(tp+fp+tn+fn)))\n",
    "    print('Sensitivity   : {0:2.6f}'.format((tp)*1./(tp+fn)))\n",
    "    print('Spesificity   : {0:2.6f}'.format((tn)*1./(tn+fp)))\n",
    "    print('Precision     : {0:2.6f}'.format((tp)*1./(tp+fp)))\n",
    "    print('ROC AUC Score : {0:2.6f}'.format(score_rocauc))\n",
    "    print('AUC Score     : {0:2.6f}'.format(score_auc))\n",
    "\n",
    "    bench = y_train.value_counts(normalize=True)\n",
    "    print('')\n",
    "    print('Benchmark : ')\n",
    "    print(bench)\n",
    "    \n",
    "    return fpr, tpr, score_auc, y_pred, y_pred_proba"
   ]
  },
  {
   "cell_type": "markdown",
   "metadata": {},
   "source": [
    "###### Cutoff Adjustment"
   ]
  },
  {
   "cell_type": "code",
   "execution_count": 60,
   "metadata": {},
   "outputs": [],
   "source": [
    "def cutoff_comparison(y_test,y_pred_proba,bench,judul,step=0.025):\n",
    "    y_actual        = [x for x in y_test]\n",
    "    y_predict_proba = y_pred_proba[:,1]\n",
    "    \n",
    "    #variable to make figure\n",
    "    cut  = []\n",
    "    accu = [] \n",
    "    sens = []\n",
    "    spec = []\n",
    "    prec = []\n",
    "    sauc = []\n",
    "    \n",
    "    #variable to choose optimum cutoff\n",
    "    optimum_cut  = 0.\n",
    "    optimum_acc  = 0.\n",
    "    optimum_sens = 0.\n",
    "    optimum_spec = 0.\n",
    "    optimum_prec = 0.\n",
    "    optimum_auc  = 0.\n",
    "    \n",
    "    for i in np.arange(0.0, 1.0, step):\n",
    "        cutoff    = i\n",
    "        y_predict = [1 if x>=cutoff else 0 for x in y_predict_proba]\n",
    "\n",
    "        df = pd.DataFrame()\n",
    "        df['y_predict'] = pd.Series(y_predict)\n",
    "        df['y_actual']  = pd.Series(y_actual)    \n",
    "\n",
    "        tn, fp, fn, tp  = confusion_matrix(df['y_actual'],df['y_predict']).ravel()\n",
    "        accuracy        = (tp+tn)*1./(tp+fp+tn+fn)\n",
    "        sensitivity     = (tp)*1./(tp+fn)\n",
    "        spesificity     = (tn)*1./(tn+fp)\n",
    "        precision       = (tp)*1./(tp+fp)\n",
    "        logloss         = log_loss(df['y_actual'], df['y_predict'])\n",
    "\n",
    "        score_rocauc      = roc_auc_score(df['y_actual'], df['y_predict'])\n",
    "        fpr,tpr,threshold = roc_curve(df['y_actual'], df['y_predict'])\n",
    "        score_auc         = auc(fpr, tpr)\n",
    "\n",
    "        #print('       Confusion Matrix : ' + \"[\" + str(tp) + \",\" + str(fp) + \"][\" + str(fn) + \",\" + str(tn) + \"]\")\n",
    "        #print(\"{0:2.4f}, Accuracy {1:2.6f}, Sensitivity {2:2.6f}, Spesificity {3:2.6f}, Precision {4:2.6f}, ROC AUC {5:2.6f}, AUC {6:2.6f}\\\n",
    "        #      \".format(i,accuracy,sensitivity,spesificity,precision,score_rocauc,score_auc)\n",
    "        #     )\n",
    "        \n",
    "        #Finding Optimum Cutoff\n",
    "        if(accuracy>bench and score_auc>0.7):\n",
    "            if(cutoff>optimum_cut):\n",
    "                optimum_cut  = cutoff\n",
    "                optimum_acc  = accuracy\n",
    "                optimum_sens = sensitivity\n",
    "                optimum_spec = spesificity\n",
    "                optimum_prec = precision\n",
    "                optimum_auc  = score_auc\n",
    "        \n",
    "        #Storing data to make figure\n",
    "        cut.append(cutoff)\n",
    "        accu.append(accuracy)\n",
    "        sens.append(sensitivity)\n",
    "        spec.append(spesificity)\n",
    "        prec.append(precision)\n",
    "        sauc.append(score_auc)\n",
    "        \n",
    "    #Make Figure\n",
    "    plt.figure(figsize=(20,10))\n",
    "    lw = 4\n",
    "    lwb = 3\n",
    "    \n",
    "    plt.plot([-0.02, 1.0], [bench, bench], color='#3399f0', lw=lwb, linestyle=':', label='Benchmark Accuracy %0.6f' % bench)\n",
    "    plt.plot(cut, accu, color='#3399f0', lw=lw, label='Optimum Accuracy %0.6f' % optimum_acc)\n",
    "    plt.plot(cut, sens, color='#09fe93', lw=lw, label='Optimum Sensitivity %0.6f' % optimum_sens)\n",
    "    plt.plot(cut, spec, color='#abcd22', lw=lw, label='Optimum Spesificity %0.6f)' % optimum_spec)\n",
    "    plt.plot(cut, prec, color='#e231ab', lw=lw, label='Optimum Precision %0.6f)' % optimum_prec)\n",
    "    plt.plot([-0.02, 1.0], [0.7, 0.7], color='#f0321f', lw=lwb, linestyle=':', label='Benchmark AUC %0.6f' % 0.700000)\n",
    "    plt.plot(cut, sauc, color='#f0321f', lw=lw, label='Optimum AUC %0.6f' % optimum_auc)\n",
    "    \n",
    "    plt.xlim([-0.02, 1.0])\n",
    "    plt.ylim([0.0, 1.05])\n",
    "    plt.xlabel('Threshold')\n",
    "    plt.ylabel('Value')\n",
    "    plt.xticks(np.arange(0.0, 1.0, step=0.05))\n",
    "    plt.yticks(np.arange(0.0, 1.0, step=0.05))\n",
    "    plt.title(judul + '\\n Model Performance vs Threshold \\n (optimum cutoff = %0.4f)' % optimum_cut)\n",
    "    plt.legend(loc=\"lower right\")\n",
    "    plt.grid(True)\n",
    "    plt.show()\n",
    "    \n",
    "    #Print Optimum Values\n",
    "    print(\"optimum_cut {0:2.4f}, optimum_acc {1:2.6f}, optimum_sens {2:2.6f}, optimum_spec {3:2.6f}, optimum_prec {4:2.6f}, optimum_auc {5:2.6f}          \".format(optimum_cut,optimum_acc,optimum_sens,optimum_spec,optimum_prec,optimum_auc)\n",
    "         )\n",
    "    \n",
    "    return optimum_cut, optimum_acc, optimum_sens, optimum_spec, optimum_prec, optimum_auc\n"
   ]
  },
  {
   "cell_type": "markdown",
   "metadata": {},
   "source": [
    "###### Plot Curve Performance: ROC, KS, Gain, Lift     "
   ]
  },
  {
   "cell_type": "code",
   "execution_count": 61,
   "metadata": {},
   "outputs": [],
   "source": [
    "import scikitplot as skplt\n",
    "from scikitplot.helpers import binary_ks_curve\n",
    "from scikitplot.helpers import cumulative_gain_curve\n",
    "from scipy import stats\n",
    "\n",
    "def plot_curve(y_actual, y_proba, judul, chartname = 'ROC'):\n",
    "    plt.figure(figsize=(20,10))\n",
    "    \n",
    "    if(chartname == 'ROC'):\n",
    "        aucroc_score     = roc_auc_score(y_actual, y_proba[:,1])\n",
    "        skplt.metrics.plot_roc(y_actual, y_proba, plot_micro=False,plot_macro=False, \n",
    "                               title='ROC Curve for variable segment_score_group\\nArea under Curve = %0.4f' % aucroc_score,\n",
    "                               title_fontsize = 16, text_fontsize = 12)\n",
    "    if(chartname == 'KS'):\n",
    "        thresholds, pct1, pct2, ks_statistic, max_distance_at, classes = binary_ks_curve(y_actual, y_proba[:,1].ravel())\n",
    "        skplt.metrics.plot_ks_statistic(y_actual, y_proba,\n",
    "                                        title='KS Chart for variable segment_score_group\\nKS Statistic = %0.4f' % (ks_statistic*100),\n",
    "                                        title_fontsize = 16, text_fontsize = 12)\n",
    "    if(chartname == 'GAIN'):\n",
    "        percentages, gains = cumulative_gain_curve(y_actual, y_proba[:,1])\n",
    "        skplt.metrics.plot_cumulative_gain(y_actual, y_proba, \n",
    "                                           title='Gain Chart for variable segment_score_group\\nArea under Gain Curve = %0.4f' % auc(percentages, gains), \n",
    "                                           title_fontsize = 16, text_fontsize = 12)\n",
    "    if(chartname == 'LIFT'):\n",
    "        skplt.metrics.plot_lift_curve(y_actual, y_proba,\n",
    "                                      title='Lift Chart for variable segment_score_group', \n",
    "                                      title_fontsize = 16, text_fontsize = 12)    \n",
    "    \n",
    "    ### Save Figure\n",
    "    #plt.savefig(folder_performance+'Performance '+ judul +' '+ chartname +'.png')\n",
    "\n",
    "    ### Show Figure  \n",
    "    plt.show()"
   ]
  },
  {
   "cell_type": "markdown",
   "metadata": {},
   "source": [
    "### Logistic Regression"
   ]
  },
  {
   "cell_type": "code",
   "execution_count": 62,
   "metadata": {},
   "outputs": [],
   "source": [
    "start_time = timeit.default_timer()"
   ]
  },
  {
   "cell_type": "code",
   "execution_count": 63,
   "metadata": {},
   "outputs": [
    {
     "data": {
      "text/plain": [
       "(29542, 6)"
      ]
     },
     "execution_count": 63,
     "metadata": {},
     "output_type": "execute_result"
    }
   ],
   "source": [
    "x_train.shape"
   ]
  },
  {
   "cell_type": "code",
   "execution_count": 64,
   "metadata": {},
   "outputs": [
    {
     "data": {
      "text/plain": [
       "(29542,)"
      ]
     },
     "execution_count": 64,
     "metadata": {},
     "output_type": "execute_result"
    }
   ],
   "source": [
    "y_train.shape"
   ]
  },
  {
   "cell_type": "markdown",
   "metadata": {},
   "source": [
    "#Evaluating The Best Hyperparameter"
   ]
  },
  {
   "cell_type": "code",
   "execution_count": 65,
   "metadata": {},
   "outputs": [
    {
     "name": "stdout",
     "output_type": "stream",
     "text": [
      "Fitting 10 folds for each of 10 candidates, totalling 100 fits\n"
     ]
    },
    {
     "name": "stderr",
     "output_type": "stream",
     "text": [
      "[Parallel(n_jobs=-1)]: Using backend LokyBackend with 4 concurrent workers.\n",
      "[Parallel(n_jobs=-1)]: Done  42 tasks      | elapsed:   11.0s\n",
      "[Parallel(n_jobs=-1)]: Done 100 out of 100 | elapsed:   14.7s finished\n",
      "C:\\Users\\940088\\Anaconda3\\lib\\site-packages\\sklearn\\linear_model\\logistic.py:433: FutureWarning: Default solver will be changed to 'lbfgs' in 0.22. Specify a solver to silence this warning.\n",
      "  FutureWarning)\n"
     ]
    },
    {
     "name": "stdout",
     "output_type": "stream",
     "text": [
      "Best ROC_AUC 0.9746508379990965\n",
      "Best Param {'C': 0.22564631610840102, 'penalty': 'l2'}\n"
     ]
    }
   ],
   "source": [
    "logit      = LogisticRegression()\n",
    "hyperparam = {'penalty': ['l1', 'l2'],\n",
    "              'C': uniform(loc=0, scale=4)}\n",
    "best_logit = bestparam_randCV(logit, hyperparam, x_train, y_train)"
   ]
  },
  {
   "cell_type": "markdown",
   "metadata": {},
   "source": [
    "#Initialize Classifier with Best Hyperparamater"
   ]
  },
  {
   "cell_type": "code",
   "execution_count": 66,
   "metadata": {},
   "outputs": [],
   "source": [
    "logit = LogisticRegression(C            = best_logit.best_params_.get('C'), \n",
    "                           penalty      = best_logit.best_params_.get('penalty'), \n",
    "                           random_state = 42)"
   ]
  },
  {
   "cell_type": "markdown",
   "metadata": {},
   "source": [
    "#Run Model"
   ]
  },
  {
   "cell_type": "code",
   "execution_count": 67,
   "metadata": {},
   "outputs": [
    {
     "name": "stderr",
     "output_type": "stream",
     "text": [
      "C:\\Users\\940088\\Anaconda3\\lib\\site-packages\\sklearn\\linear_model\\logistic.py:433: FutureWarning: Default solver will be changed to 'lbfgs' in 0.22. Specify a solver to silence this warning.\n",
      "  FutureWarning)\n"
     ]
    }
   ],
   "source": [
    "result_logit = logit.fit(x_train, y_train)"
   ]
  },
  {
   "cell_type": "markdown",
   "metadata": {},
   "source": [
    "### Model Equation"
   ]
  },
  {
   "cell_type": "code",
   "execution_count": 68,
   "metadata": {},
   "outputs": [
    {
     "data": {
      "text/html": [
       "<div>\n",
       "<style scoped>\n",
       "    .dataframe tbody tr th:only-of-type {\n",
       "        vertical-align: middle;\n",
       "    }\n",
       "\n",
       "    .dataframe tbody tr th {\n",
       "        vertical-align: top;\n",
       "    }\n",
       "\n",
       "    .dataframe thead th {\n",
       "        text-align: right;\n",
       "    }\n",
       "</style>\n",
       "<table border=\"1\" class=\"dataframe\">\n",
       "  <thead>\n",
       "    <tr style=\"text-align: right;\">\n",
       "      <th></th>\n",
       "      <th>feature</th>\n",
       "      <th>coef</th>\n",
       "    </tr>\n",
       "  </thead>\n",
       "  <tbody>\n",
       "    <tr>\n",
       "      <th>0</th>\n",
       "      <td>x1</td>\n",
       "      <td>2.366077</td>\n",
       "    </tr>\n",
       "    <tr>\n",
       "      <th>1</th>\n",
       "      <td>x2</td>\n",
       "      <td>2.259368</td>\n",
       "    </tr>\n",
       "    <tr>\n",
       "      <th>2</th>\n",
       "      <td>x3</td>\n",
       "      <td>0.117901</td>\n",
       "    </tr>\n",
       "    <tr>\n",
       "      <th>3</th>\n",
       "      <td>x4</td>\n",
       "      <td>0.139510</td>\n",
       "    </tr>\n",
       "    <tr>\n",
       "      <th>4</th>\n",
       "      <td>x5</td>\n",
       "      <td>4.550589</td>\n",
       "    </tr>\n",
       "    <tr>\n",
       "      <th>5</th>\n",
       "      <td>x6</td>\n",
       "      <td>-1.110087</td>\n",
       "    </tr>\n",
       "  </tbody>\n",
       "</table>\n",
       "</div>"
      ],
      "text/plain": [
       "  feature      coef\n",
       "0      x1  2.366077\n",
       "1      x2  2.259368\n",
       "2      x3  0.117901\n",
       "3      x4  0.139510\n",
       "4      x5  4.550589\n",
       "5      x6 -1.110087"
      ]
     },
     "execution_count": 68,
     "metadata": {},
     "output_type": "execute_result"
    }
   ],
   "source": [
    "coefficients = pd.concat([pd.DataFrame(x_train.columns),pd.DataFrame(np.transpose(logit.coef_))], axis = 1)\n",
    "coefficients.columns = ['feature', 'coef']\n",
    "coefficients"
   ]
  },
  {
   "cell_type": "markdown",
   "metadata": {},
   "source": [
    "### Evaluate / Generate model performance"
   ]
  },
  {
   "cell_type": "code",
   "execution_count": 69,
   "metadata": {},
   "outputs": [
    {
     "name": "stdout",
     "output_type": "stream",
     "text": [
      "\n",
      "              precision    recall  f1-score   support\n",
      "\n",
      "           0       0.91      0.94      0.92     17489\n",
      "           1       0.91      0.86      0.88     12053\n",
      "\n",
      "   micro avg       0.91      0.91      0.91     29542\n",
      "   macro avg       0.91      0.90      0.90     29542\n",
      "weighted avg       0.91      0.91      0.91     29542\n",
      "\n",
      "Confusion Matrix : [10396,1061][1657,16428]\n",
      "\n",
      "Accuracy      : 0.907995\n",
      "Sensitivity   : 0.862524\n",
      "Spesificity   : 0.939333\n",
      "Precision     : 0.907393\n",
      "ROC AUC Score : 0.974651\n",
      "AUC Score     : 0.900929\n",
      "\n",
      "Benchmark : \n",
      "0    0.592005\n",
      "1    0.407995\n",
      "Name: label, dtype: float64\n",
      "\n",
      "Elapsed time for LOGIT 0.289473 min\n"
     ]
    }
   ],
   "source": [
    "###from data train\n",
    "fpr_logit0, tpr_logit0, score_auc_logit0, y_pred_logit0, y_pred_proba_logit0 = model_performace(logit,x_train,y_train)\n",
    "\n",
    "elapsed = (timeit.default_timer() - start_time)/60.\n",
    "print('')\n",
    "print('Elapsed time for LOGIT {0:6.6f} min'.format(elapsed))"
   ]
  },
  {
   "cell_type": "code",
   "execution_count": 70,
   "metadata": {},
   "outputs": [
    {
     "name": "stdout",
     "output_type": "stream",
     "text": [
      "\n",
      "              precision    recall  f1-score   support\n",
      "\n",
      "           0       0.91      0.94      0.92      7509\n",
      "           1       0.91      0.86      0.88      5153\n",
      "\n",
      "   micro avg       0.91      0.91      0.91     12662\n",
      "   macro avg       0.91      0.90      0.90     12662\n",
      "weighted avg       0.91      0.91      0.91     12662\n",
      "\n",
      "Confusion Matrix : [4428,444][725,7065]\n",
      "\n",
      "Accuracy      : 0.907677\n",
      "Sensitivity   : 0.859305\n",
      "Spesificity   : 0.940871\n",
      "Precision     : 0.908867\n",
      "ROC AUC Score : 0.974038\n",
      "AUC Score     : 0.900088\n",
      "\n",
      "Benchmark : \n",
      "0    0.592005\n",
      "1    0.407995\n",
      "Name: label, dtype: float64\n",
      "\n",
      "Elapsed time for LOGIT 0.291091 min\n"
     ]
    }
   ],
   "source": [
    "###from data test\n",
    "fpr_logit1, tpr_logit1, score_auc_logit1, y_pred_logit1, y_pred_proba_logit1 = model_performace(logit,x_test,y_test)\n",
    "\n",
    "elapsed = (timeit.default_timer() - start_time)/60.\n",
    "print('')\n",
    "print('Elapsed time for LOGIT {0:6.6f} min'.format(elapsed))"
   ]
  },
  {
   "cell_type": "code",
   "execution_count": 71,
   "metadata": {},
   "outputs": [
    {
     "data": {
      "text/plain": [
       "<Figure size 1440x720 with 0 Axes>"
      ]
     },
     "metadata": {},
     "output_type": "display_data"
    },
    {
     "data": {
      "image/png": "[encoded data removed]",
      "text/plain": [
       "<Figure size 432x288 with 1 Axes>"
      ]
     },
     "metadata": {
      "needs_background": "light"
     },
     "output_type": "display_data"
    },
    {
     "data": {
      "text/plain": [
       "<Figure size 1440x720 with 0 Axes>"
      ]
     },
     "metadata": {},
     "output_type": "display_data"
    },
    {
     "data": {
      "image/png": "[encoded data removed]",
      "text/plain": [
       "<Figure size 432x288 with 1 Axes>"
      ]
     },
     "metadata": {
      "needs_background": "light"
     },
     "output_type": "display_data"
    },
    {
     "name": "stderr",
     "output_type": "stream",
     "text": [
      "C:\\Users\\940088\\Anaconda3\\lib\\site-packages\\matplotlib\\cbook\\__init__.py:424: MatplotlibDeprecationWarning: \n",
      "Passing one of 'on', 'true', 'off', 'false' as a boolean is deprecated; use an actual boolean (True/False) instead.\n",
      "  warn_deprecated(\"2.2\", \"Passing one of 'on', 'true', 'off', 'false' as a \"\n"
     ]
    },
    {
     "data": {
      "text/plain": [
       "<Figure size 1440x720 with 0 Axes>"
      ]
     },
     "metadata": {},
     "output_type": "display_data"
    },
    {
     "data": {
      "image/png": "[encoded data removed]",
      "text/plain": [
       "<Figure size 432x288 with 1 Axes>"
      ]
     },
     "metadata": {
      "needs_background": "light"
     },
     "output_type": "display_data"
    },
    {
     "name": "stderr",
     "output_type": "stream",
     "text": [
      "C:\\Users\\940088\\Anaconda3\\lib\\site-packages\\matplotlib\\cbook\\__init__.py:424: MatplotlibDeprecationWarning: \n",
      "Passing one of 'on', 'true', 'off', 'false' as a boolean is deprecated; use an actual boolean (True/False) instead.\n",
      "  warn_deprecated(\"2.2\", \"Passing one of 'on', 'true', 'off', 'false' as a \"\n"
     ]
    },
    {
     "data": {
      "text/plain": [
       "<Figure size 1440x720 with 0 Axes>"
      ]
     },
     "metadata": {},
     "output_type": "display_data"
    },
    {
     "data": {
      "image/png": "[encoded data removed]",
      "text/plain": [
       "<Figure size 432x288 with 1 Axes>"
      ]
     },
     "metadata": {
      "needs_background": "light"
     },
     "output_type": "display_data"
    }
   ],
   "source": [
    "# Ploting ROC, KS, Gain, Lift Testing Data\n",
    "judul = 'LOGISTIC TEST'\n",
    "plot_curve(y_test, y_pred_proba_logit1, judul, chartname = 'ROC')\n",
    "plot_curve(y_test, y_pred_proba_logit1, judul, chartname = 'KS')\n",
    "plot_curve(y_test, y_pred_proba_logit1, judul, chartname = 'GAIN')\n",
    "plot_curve(y_test, y_pred_proba_logit1, judul, chartname = 'LIFT')"
   ]
  },
  {
   "cell_type": "markdown",
   "metadata": {},
   "source": [
    "# Predict"
   ]
  },
  {
   "cell_type": "markdown",
   "metadata": {},
   "source": [
    "- Create prediction & probability\n",
    "- export result set"
   ]
  },
  {
   "cell_type": "markdown",
   "metadata": {},
   "source": [
    "### Create prediction and probability column"
   ]
  },
  {
   "cell_type": "code",
   "execution_count": 72,
   "metadata": {},
   "outputs": [
    {
     "data": {
      "text/html": [
       "<div>\n",
       "<style scoped>\n",
       "    .dataframe tbody tr th:only-of-type {\n",
       "        vertical-align: middle;\n",
       "    }\n",
       "\n",
       "    .dataframe tbody tr th {\n",
       "        vertical-align: top;\n",
       "    }\n",
       "\n",
       "    .dataframe thead th {\n",
       "        text-align: right;\n",
       "    }\n",
       "</style>\n",
       "<table border=\"1\" class=\"dataframe\">\n",
       "  <thead>\n",
       "    <tr style=\"text-align: right;\">\n",
       "      <th></th>\n",
       "      <th>id</th>\n",
       "      <th>x1</th>\n",
       "      <th>x2</th>\n",
       "      <th>x3</th>\n",
       "      <th>x4</th>\n",
       "      <th>x5</th>\n",
       "      <th>x6</th>\n",
       "      <th>label</th>\n",
       "      <th>y_predict</th>\n",
       "      <th>y_prob_low</th>\n",
       "      <th>y_prob_high</th>\n",
       "    </tr>\n",
       "  </thead>\n",
       "  <tbody>\n",
       "    <tr>\n",
       "      <th>0</th>\n",
       "      <td>ERF-4688</td>\n",
       "      <td>0</td>\n",
       "      <td>15</td>\n",
       "      <td>0.0</td>\n",
       "      <td>0</td>\n",
       "      <td>0</td>\n",
       "      <td>0</td>\n",
       "      <td>low</td>\n",
       "      <td>0</td>\n",
       "      <td>0.986032</td>\n",
       "      <td>0.013968</td>\n",
       "    </tr>\n",
       "    <tr>\n",
       "      <th>1</th>\n",
       "      <td>EUO-4602</td>\n",
       "      <td>0</td>\n",
       "      <td>21</td>\n",
       "      <td>0.0</td>\n",
       "      <td>0</td>\n",
       "      <td>0</td>\n",
       "      <td>0</td>\n",
       "      <td>low</td>\n",
       "      <td>0</td>\n",
       "      <td>0.980701</td>\n",
       "      <td>0.019299</td>\n",
       "    </tr>\n",
       "    <tr>\n",
       "      <th>2</th>\n",
       "      <td>EUR-4639</td>\n",
       "      <td>0</td>\n",
       "      <td>15</td>\n",
       "      <td>0.0</td>\n",
       "      <td>0</td>\n",
       "      <td>0</td>\n",
       "      <td>0</td>\n",
       "      <td>low</td>\n",
       "      <td>0</td>\n",
       "      <td>0.986032</td>\n",
       "      <td>0.013968</td>\n",
       "    </tr>\n",
       "    <tr>\n",
       "      <th>3</th>\n",
       "      <td>EVL-4548</td>\n",
       "      <td>0</td>\n",
       "      <td>16</td>\n",
       "      <td>0.0</td>\n",
       "      <td>0</td>\n",
       "      <td>0</td>\n",
       "      <td>0</td>\n",
       "      <td>low</td>\n",
       "      <td>0</td>\n",
       "      <td>0.985257</td>\n",
       "      <td>0.014743</td>\n",
       "    </tr>\n",
       "    <tr>\n",
       "      <th>4</th>\n",
       "      <td>EVY-4534</td>\n",
       "      <td>0</td>\n",
       "      <td>15</td>\n",
       "      <td>0.0</td>\n",
       "      <td>0</td>\n",
       "      <td>0</td>\n",
       "      <td>0</td>\n",
       "      <td>low</td>\n",
       "      <td>0</td>\n",
       "      <td>0.986032</td>\n",
       "      <td>0.013968</td>\n",
       "    </tr>\n",
       "  </tbody>\n",
       "</table>\n",
       "</div>"
      ],
      "text/plain": [
       "         id  x1  x2   x3  x4  x5  x6 label  y_predict  y_prob_low  y_prob_high\n",
       "0  ERF-4688   0  15  0.0   0   0   0   low          0    0.986032     0.013968\n",
       "1  EUO-4602   0  21  0.0   0   0   0   low          0    0.980701     0.019299\n",
       "2  EUR-4639   0  15  0.0   0   0   0   low          0    0.986032     0.013968\n",
       "3  EVL-4548   0  16  0.0   0   0   0   low          0    0.985257     0.014743\n",
       "4  EVY-4534   0  15  0.0   0   0   0   low          0    0.986032     0.013968"
      ]
     },
     "execution_count": 72,
     "metadata": {},
     "output_type": "execute_result"
    }
   ],
   "source": [
    "y_predict = logit.predict(x_std)\n",
    "y_prob = logit.predict_proba(x_std)\n",
    "df['y_predict'] = y_predict\n",
    "df['y_prob_low'] = y_prob[:,0]\n",
    "df['y_prob_high'] = y_prob[:,1]\n",
    "df.head(5)"
   ]
  },
  {
   "cell_type": "markdown",
   "metadata": {},
   "source": [
    "### Export result to CSV"
   ]
  },
  {
   "cell_type": "code",
   "execution_count": 73,
   "metadata": {},
   "outputs": [],
   "source": [
    "df.to_csv('final_result.csv')"
   ]
  }
 ],
 "metadata": {
  "kernelspec": {
   "display_name": "Python 3",
   "language": "python",
   "name": "python3"
  },
  "language_info": {
   "codemirror_mode": {
    "name": "ipython",
    "version": 3
   },
   "file_extension": ".py",
   "mimetype": "text/x-python",
   "name": "python",
   "nbconvert_exporter": "python",
   "pygments_lexer": "ipython3",
   "version": "3.7.1"
  }
 },
 "nbformat": 4,
 "nbformat_minor": 2
}
